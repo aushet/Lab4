{
 "cells": [
  {
   "cell_type": "markdown",
   "id": "0665f510-0fdf-4910-9796-3d32ea2e2150",
   "metadata": {},
   "source": [
    "Exercise1"
   ]
  },
  {
   "cell_type": "code",
   "execution_count": 3,
   "id": "a1a3710b-3147-4b6e-be18-ebab3946a757",
   "metadata": {},
   "outputs": [
    {
     "name": "stdin",
     "output_type": "stream",
     "text": [
      "Enter a number: 5\n"
     ]
    },
    {
     "name": "stdout",
     "output_type": "stream",
     "text": [
      "1\n",
      "4\n",
      "9\n",
      "16\n",
      "25\n"
     ]
    }
   ],
   "source": [
    "def square_generator(N):\n",
    "    for i in range(1, N + 1):\n",
    "        yield i**2\n",
    "N = int(input(\"Enter a number:\"))\n",
    "for square in square_generator(N):\n",
    "    print(square)"
   ]
  },
  {
   "cell_type": "markdown",
   "id": "f491509a-fbc9-4963-b16a-68a8238f6bcc",
   "metadata": {},
   "source": [
    "Exercise2"
   ]
  },
  {
   "cell_type": "code",
   "execution_count": 6,
   "id": "51ec420c-d19e-428b-958f-12d24e27a4cc",
   "metadata": {},
   "outputs": [
    {
     "name": "stdin",
     "output_type": "stream",
     "text": [
      "Enter the number: 10\n"
     ]
    },
    {
     "name": "stdout",
     "output_type": "stream",
     "text": [
      "0,2,4,6,8,10\n"
     ]
    }
   ],
   "source": [
    "def generator(N):\n",
    "    for i in range(0,N+1,2):\n",
    "        yield i\n",
    "N = int(input(\"Enter the number:\"))\n",
    "print(\",\".join(map(str,generator(N))))"
   ]
  },
  {
   "cell_type": "markdown",
   "id": "851330fe-7f11-43ea-aede-8e5cc49ce119",
   "metadata": {},
   "source": [
    "Exercise3"
   ]
  },
  {
   "cell_type": "code",
   "execution_count": 11,
   "id": "e49ebf49-2f69-42b4-a96c-30333f0c7e26",
   "metadata": {},
   "outputs": [
    {
     "name": "stdin",
     "output_type": "stream",
     "text": [
      "Введите число:  24\n"
     ]
    },
    {
     "name": "stdout",
     "output_type": "stream",
     "text": [
      "0,12,24\n"
     ]
    }
   ],
   "source": [
    "def multiples_of_3_and_4(N):\n",
    "    for i in range(0, N + 1):\n",
    "        if i % 3 == 0 and i % 4 == 0:\n",
    "            yield i\n",
    "N = int(input(\"Введите число: \"))\n",
    "print(\",\".join(map(str, multiples_of_3_and_4(N))))\n"
   ]
  },
  {
   "cell_type": "markdown",
   "id": "00f5b2a6-0def-4c9c-ba0b-f203ac41a3a5",
   "metadata": {},
   "source": [
    "Exercise4"
   ]
  },
  {
   "cell_type": "code",
   "execution_count": 14,
   "id": "8df5c3c3-8a5c-408b-b869-7f3119bbeff3",
   "metadata": {},
   "outputs": [
    {
     "name": "stdin",
     "output_type": "stream",
     "text": [
      "Enter the starting number (a):  5\n",
      "Enter the ending number (b):  7\n"
     ]
    },
    {
     "name": "stdout",
     "output_type": "stream",
     "text": [
      "25\n",
      "36\n",
      "49\n"
     ]
    }
   ],
   "source": [
    "def squares(a, b):\n",
    "    for i in range(a, b + 1):\n",
    "        yield i ** 2\n",
    "a = int(input(\"Enter the starting number (a): \"))\n",
    "b = int(input(\"Enter the ending number (b): \"))\n",
    "for square in squares(a, b):\n",
    "    print(square)"
   ]
  },
  {
   "cell_type": "markdown",
   "id": "5cb68034-d645-4abd-bcee-ec828f06bade",
   "metadata": {},
   "source": [
    "Exercise5"
   ]
  },
  {
   "cell_type": "code",
   "execution_count": null,
   "id": "c6e2819f-5aee-4005-a8b1-f05ad52bddc7",
   "metadata": {},
   "outputs": [],
   "source": []
  }
 ],
 "metadata": {
  "kernelspec": {
   "display_name": "Python [conda env:base] *",
   "language": "python",
   "name": "conda-base-py"
  },
  "language_info": {
   "codemirror_mode": {
    "name": "ipython",
    "version": 3
   },
   "file_extension": ".py",
   "mimetype": "text/x-python",
   "name": "python",
   "nbconvert_exporter": "python",
   "pygments_lexer": "ipython3",
   "version": "3.12.7"
  }
 },
 "nbformat": 4,
 "nbformat_minor": 5
}
