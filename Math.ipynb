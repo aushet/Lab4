{
 "cells": [
  {
   "cell_type": "markdown",
   "id": "ba64c444-ee80-452c-8336-21b8731aa1b9",
   "metadata": {},
   "source": [
    "Exercise1"
   ]
  },
  {
   "cell_type": "code",
   "execution_count": 7,
   "id": "67f72980-e843-446b-b3bd-0a3aa2770380",
   "metadata": {},
   "outputs": [
    {
     "name": "stdin",
     "output_type": "stream",
     "text": [
      "Input degrees : 15\n"
     ]
    },
    {
     "name": "stdout",
     "output_type": "stream",
     "text": [
      "Output radians 0.2617993877991494\n"
     ]
    }
   ],
   "source": [
    "import math\n",
    "degree = float(input(\"Input degrees :\"))\n",
    "radians = degree * (math.pi/180)\n",
    "print(\"Output radians\",radians)"
   ]
  },
  {
   "cell_type": "markdown",
   "id": "37b7f21e-d897-406c-bba5-f68be234e6b3",
   "metadata": {},
   "source": [
    "Exercise2"
   ]
  },
  {
   "cell_type": "code",
   "execution_count": 9,
   "id": "342cde16-d0d7-4149-8c86-309a2e3b32a5",
   "metadata": {},
   "outputs": [
    {
     "name": "stdin",
     "output_type": "stream",
     "text": [
      "Height: 5\n",
      "Base, first value: 6\n",
      "Base, second value: 5\n"
     ]
    },
    {
     "name": "stdout",
     "output_type": "stream",
     "text": [
      "Expected Output: 27.5\n"
     ]
    }
   ],
   "source": [
    "import math\n",
    "height = float(input(\"Height:\"))\n",
    "first_value = float(input(\"Base, first value:\"))\n",
    "second_value = float(input(\"Base, second value:\"))\n",
    "area = ((first_value + second_value)*height)/2\n",
    "print(\"Expected Output:\",area)"
   ]
  },
  {
   "cell_type": "markdown",
   "id": "a0fddf2a-d1b3-4838-bca2-17088712df4b",
   "metadata": {},
   "source": [
    "Exercise3"
   ]
  },
  {
   "cell_type": "code",
   "execution_count": 12,
   "id": "3ed31ddd-589d-4851-b658-3a7ba3809d3b",
   "metadata": {},
   "outputs": [
    {
     "name": "stdin",
     "output_type": "stream",
     "text": [
      "Input number of sides:  4\n",
      "Input the length of a side:  25\n"
     ]
    },
    {
     "name": "stdout",
     "output_type": "stream",
     "text": [
      "The area of the polygon is: 625.00\n"
     ]
    }
   ],
   "source": [
    "import math\n",
    "n = int(input(\"Input number of sides: \"))\n",
    "s = float(input(\"Input the length of a side: \"))\n",
    "area = (n * s**2) / (4 * math.tan(math.pi / n))\n",
    "print(f\"The area of the polygon is: {area:.2f}\")"
   ]
  },
  {
   "cell_type": "markdown",
   "id": "13a6deb6-5e4c-434b-8ab2-85b4cc19eb7b",
   "metadata": {},
   "source": [
    "Exercise4"
   ]
  },
  {
   "cell_type": "code",
   "execution_count": 15,
   "id": "806702d0-f365-4958-94b0-e21498279c5c",
   "metadata": {},
   "outputs": [
    {
     "name": "stdin",
     "output_type": "stream",
     "text": [
      "Length of base:  5\n",
      "Height of parallelogram:  6\n"
     ]
    },
    {
     "name": "stdout",
     "output_type": "stream",
     "text": [
      "The area of the parallelogram is: 30.0\n"
     ]
    }
   ],
   "source": [
    "import math\n",
    "base = float(input(\"Length of base: \"))\n",
    "height = float(input(\"Height of parallelogram: \"))\n",
    "area = base * height\n",
    "print(f\"The area of the parallelogram is: {area}\")\n"
   ]
  }
 ],
 "metadata": {
  "kernelspec": {
   "display_name": "Python [conda env:base] *",
   "language": "python",
   "name": "conda-base-py"
  },
  "language_info": {
   "codemirror_mode": {
    "name": "ipython",
    "version": 3
   },
   "file_extension": ".py",
   "mimetype": "text/x-python",
   "name": "python",
   "nbconvert_exporter": "python",
   "pygments_lexer": "ipython3",
   "version": "3.12.7"
  }
 },
 "nbformat": 4,
 "nbformat_minor": 5
}
