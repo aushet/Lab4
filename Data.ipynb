{
 "cells": [
  {
   "cell_type": "markdown",
   "id": "f700c0b7-4f3d-4869-9407-6c4ba4b38333",
   "metadata": {},
   "source": [
    "Exercise1"
   ]
  },
  {
   "cell_type": "code",
   "execution_count": 2,
   "id": "df9bd868-1be8-4d49-a8b6-a88ca39ec76b",
   "metadata": {},
   "outputs": [
    {
     "name": "stdout",
     "output_type": "stream",
     "text": [
      "2025-02-07 16:35:07.236642\n"
     ]
    }
   ],
   "source": [
    "from datetime import datetime,timedelta\n",
    "today = datetime.today()\n",
    "minus_five_day = today - timedelta(days = 5)\n",
    "print(minus_five_day)"
   ]
  },
  {
   "cell_type": "markdown",
   "id": "afb53fa6-a829-403e-87c0-b672866f2fc6",
   "metadata": {},
   "source": [
    "Exercise2"
   ]
  },
  {
   "cell_type": "code",
   "execution_count": 5,
   "id": "2e8d42b7-a600-460c-8df3-d34891987d22",
   "metadata": {},
   "outputs": [
    {
     "name": "stdout",
     "output_type": "stream",
     "text": [
      "2025-02-11\n",
      "2025-02-12\n",
      "2025-02-13\n"
     ]
    }
   ],
   "source": [
    "from datetime import datetime,timedelta\n",
    "today = datetime.today()\n",
    "yesterday = today - timedelta(days = 1)\n",
    "tomorrow = today + timedelta(days = 1)\n",
    "print(yesterday.strftime(\"%Y-%m-%d\"))\n",
    "print(today.strftime(\"%Y-%m-%d\"))\n",
    "print(tomorrow.strftime(\"%Y-%m-%d\"))"
   ]
  },
  {
   "cell_type": "markdown",
   "id": "65180a53-c71e-48c2-9bd2-9fc06fc21964",
   "metadata": {},
   "source": [
    "Exercise3"
   ]
  },
  {
   "cell_type": "code",
   "execution_count": 14,
   "id": "4aff61e9-e3dd-4e5b-a56c-96fedfebd387",
   "metadata": {},
   "outputs": [
    {
     "name": "stdout",
     "output_type": "stream",
     "text": [
      "2025-02-12 17:02:05\n"
     ]
    }
   ],
   "source": [
    "from datetime import datetime\n",
    "today = datetime.today()\n",
    "clean_time = today.replace(microsecond=0)\n",
    "print(clean_time)"
   ]
  },
  {
   "cell_type": "markdown",
   "id": "d7733704-1c5c-4315-a826-e194da716b05",
   "metadata": {},
   "source": [
    "Exercise4"
   ]
  },
  {
   "cell_type": "code",
   "execution_count": 18,
   "id": "5ff80b7c-f8cf-4709-887b-bdd07f5f0bc6",
   "metadata": {},
   "outputs": [
    {
     "name": "stdin",
     "output_type": "stream",
     "text": [
      "Enter first date (YYYY-MM-DD HH:MM:SS):  2025-02-12 17:11:59\n",
      "Enter second date (YYYY-MM-DD HH:MM:SS):  2007-06-02 23:59:59\n"
     ]
    },
    {
     "name": "stdout",
     "output_type": "stream",
     "text": [
      "558551520.0\n"
     ]
    }
   ],
   "source": [
    "from datetime import datetime,timedelta\n",
    "date1_str = input(\"Enter first date (YYYY-MM-DD HH:MM:SS): \")\n",
    "date2_str = input(\"Enter second date (YYYY-MM-DD HH:MM:SS): \")\n",
    "date_format = \"%Y-%m-%d %H:%M:%S\"\n",
    "date1  = datetime.strptime(date1_str,date_format)\n",
    "date2  = datetime.strptime(date2_str,date_format)\n",
    "difference = abs((date1-date2).total_seconds())\n",
    "print(difference)"
   ]
  },
  {
   "cell_type": "code",
   "execution_count": null,
   "id": "d14e4908-419b-40cf-bbe8-340b75d81d2e",
   "metadata": {},
   "outputs": [],
   "source": []
  }
 ],
 "metadata": {
  "kernelspec": {
   "display_name": "Python [conda env:base] *",
   "language": "python",
   "name": "conda-base-py"
  },
  "language_info": {
   "codemirror_mode": {
    "name": "ipython",
    "version": 3
   },
   "file_extension": ".py",
   "mimetype": "text/x-python",
   "name": "python",
   "nbconvert_exporter": "python",
   "pygments_lexer": "ipython3",
   "version": "3.12.7"
  }
 },
 "nbformat": 4,
 "nbformat_minor": 5
}
